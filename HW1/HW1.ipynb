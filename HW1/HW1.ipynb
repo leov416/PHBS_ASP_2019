{
 "cells": [
  {
   "cell_type": "markdown",
   "metadata": {},
   "source": [
    "# HW 1: Corporate Bond Pricing (due by 9.20 Fri)"
   ]
  },
  {
   "cell_type": "markdown",
   "metadata": {},
   "source": [
    "We are going to compute the price of a corporate bond (subject to default) with Monte-Carlo simulation. Assume that \n",
    "* the default time of a company follows the exponential distribution with intensity $\\lambda=$__`def_rate`__. \n",
    "* the riskfree interest rate is $r_f=$__`rf_rate`__ and the maturity of the bond is $T=$__`mat`__. \n",
    "* in the case of default, you can recover some portion ($R=$__`recovery_rate`__) of the face value.\n",
    "* the coupon is 0%, i.e., it is a zero-coupon bond.\n",
    "* the face value of the bond is 1.0\n",
    "* use compound rate for discounting; the price of the default-free bond is $e^{-r_f T}$\n",
    "\n",
    "The Problem 1 of the [2017 ASP Midterm Exam](../files/ASP2017_Midterm.pdf) will be helpful.\n",
    "\n",
    "### Instruction to upload your HW\n",
    "* Create a repository named __`PHBS_ASP_2019`__ (and clone it to your PC)\n",
    "* Copy this file to __`PHBS_ASP_2019/HW1/HW1.ipynb`__  (Please use the same name for repository and ipynb file)\n",
    "* Add solution code.\n",
    "* Run your your code to make sure that there's no error.\n",
    "* Upload (commit and sync) your file."
   ]
  },
  {
   "cell_type": "markdown",
   "metadata": {},
   "source": [
    "### 1. First, let's create a pricing function and check the std "
   ]
  },
  {
   "cell_type": "code",
   "execution_count": 17,
   "metadata": {},
   "outputs": [],
   "source": [
    "import numpy as np"
   ]
  },
  {
   "cell_type": "code",
   "execution_count": 18,
   "metadata": {},
   "outputs": [],
   "source": [
    "def_rate = 0.1\n",
    "rf_rate = 0.03\n",
    "recovery = 0.3\n",
    "mat = 10"
   ]
  },
  {
   "cell_type": "markdown",
   "metadata": {},
   "source": []
  },
  {
   "cell_type": "code",
   "execution_count": 19,
   "metadata": {},
   "outputs": [
    {
     "data": {
      "text/plain": [
       "(10.029960406534599, 10.0)"
      ]
     },
     "execution_count": 19,
     "metadata": {},
     "output_type": "execute_result"
    }
   ],
   "source": [
    "# First generate exponential random numbers\n",
    "# Although you can generate directly using fault_time = np.random.exponential(scale=), let's use uniform random numbers.\n",
    "n_sample = 10000\n",
    "U = np.random.uniform(size=n_sample)\n",
    "default_time = -(1/def_rate)*np.log(U)\n",
    "\n",
    "# You can check if the RNs are correct by comparing the means\n",
    "(default_time.mean(), 1/def_rate)"
   ]
  },
  {
   "cell_type": "code",
   "execution_count": 20,
   "metadata": {},
   "outputs": [],
   "source": [
    "# Put your code here to price the corporate bond\n",
    "\n",
    "def corp_bond(mat=1, def_rate=0.1, rf_rate=0.03, recovery=0.3, n_sample=1e4):\n",
    "    #generate exponential random numbers\n",
    "    U = np.random.uniform(size=n_sample)\n",
    "    default_time = -(1/def_rate)*np.log(U)\n",
    "    \n",
    "    #plug in random numbers and judge if default_time>mat \n",
    "    result=[]\n",
    "    for time in default_time:\n",
    "        if time<mat:\n",
    "            result.append(recovery*np.exp(-rf_rate*time))\n",
    "        else:\n",
    "            result.append(np.exp(-rf_rate*mat))\n",
    "    \n",
    "    bond_price=np.average(np.array([result]))\n",
    "\n",
    "    return bond_price\n",
    "\n",
    "\n",
    "\n",
    "\n"
   ]
  },
  {
   "cell_type": "code",
   "execution_count": 21,
   "metadata": {},
   "outputs": [
    {
     "data": {
      "text/plain": [
       "0.44153015525131106"
      ]
     },
     "execution_count": 21,
     "metadata": {},
     "output_type": "execute_result"
    }
   ],
   "source": [
    "# Call your function\n",
    "corp_bond(mat, def_rate, rf_rate, recovery, n_sample)"
   ]
  },
  {
   "cell_type": "code",
   "execution_count": 22,
   "metadata": {},
   "outputs": [
    {
     "data": {
      "text/plain": [
       "(0.4406528262021967, 0.0021599341004380815)"
      ]
     },
     "execution_count": 22,
     "metadata": {},
     "output_type": "execute_result"
    }
   ],
   "source": [
    "# Find the mean and std by calling the function 100 times. \n",
    "data=[]\n",
    "for i in range(100):\n",
    "    data.append(corp_bond(mat, def_rate, rf_rate, recovery, n_sample))\n",
    "\n",
    "np.mean(data),np.std(data)"
   ]
  },
  {
   "cell_type": "markdown",
   "metadata": {},
   "source": [
    "### 2. Now, let's improve the function by reducing the MC variations.\n",
    "1. Use antithetic method: If `U` is uniform random variable, so is `1-U`\n",
    "2. Also shift the RNs to match the mean, `1/def_rate`"
   ]
  },
  {
   "cell_type": "code",
   "execution_count": 23,
   "metadata": {},
   "outputs": [
    {
     "data": {
      "text/plain": [
       "(10.0, 10.0)"
      ]
     },
     "execution_count": 23,
     "metadata": {},
     "output_type": "execute_result"
    }
   ],
   "source": [
    "# For example, antithetic method mean\n",
    "n_sample = 10000\n",
    "U = np.random.uniform(size=int(n_sample/2))\n",
    "default_time = -(1/def_rate)*np.log(np.concatenate((U,1-U),axis=0))\n",
    "\n",
    "# Mean-matching means\n",
    "default_time += 1/def_rate-default_time.mean()\n",
    "(default_time.mean(), 1/def_rate)"
   ]
  },
  {
   "cell_type": "code",
   "execution_count": 28,
   "metadata": {},
   "outputs": [],
   "source": [
    "# Now include the two new features: `antithetic` and `mean_match`\n",
    "\n",
    "def corp_bond_cv(mat=10, def_rate=0.1, rf_rate=0.03, recovery=0.3, n_sample=1e4, antithetic=True, mean_match=True):\n",
    "    #first generate random number as usual\n",
    "    U = np.random.uniform(size=int(n_sample))\n",
    "    default_time=None\n",
    "    \n",
    "    if(antithetic):\n",
    "        #perform the antithetic method\n",
    "        U = np.random.uniform(size=int(n_sample/2))\n",
    "        default_time = -(1/def_rate)*np.log(np.concatenate((U,1-U),axis=0))\n",
    "        \n",
    "\n",
    "    if(mean_match):\n",
    "        #generate random series and perform mean_match\n",
    "        if antithetic:\n",
    "            #if antithetic before, simply add the mean match\n",
    "            default_time += 1/def_rate-default_time.mean()\n",
    "        else:\n",
    "            #if not antithetic, default_time is None need to redefine \n",
    "            default_time = -(1/def_rate)*np.log(U)\n",
    "            default_time += 1/def_rate-default_time.mean()\n",
    "            \n",
    "    if default_time is None:\n",
    "        #neither two methods are selected\n",
    "        return None\n",
    "    else:\n",
    "        result1=[]\n",
    "        for time in default_time:\n",
    "            if time<mat:\n",
    "                result1.append(recovery*np.exp(-rf_rate*time))\n",
    "            else:\n",
    "                result1.append(np.exp(-rf_rate*mat))\n",
    "        \n",
    "        return np.mean(result1)\n",
    "\n",
    "\n"
   ]
  },
  {
   "cell_type": "code",
   "execution_count": 34,
   "metadata": {},
   "outputs": [
    {
     "name": "stdout",
     "output_type": "stream",
     "text": [
      "antithetic method:mean:0.44006783530654786,std:0.0016236014931317825\n"
     ]
    }
   ],
   "source": [
    "# Find the mean and std by calling the function 100 times for (i) antithetic (ii) mean_match and (iii) both\n",
    "#antithetic\n",
    "ant_res=[]\n",
    "for i in range(100):\n",
    "    price_item=corp_bond_cv(mat, def_rate, rf_rate, recovery, n_sample,True,False)\n",
    "    ant_res.append(price_item)\n",
    "\n",
    "print('antithetic method:mean:{},std:{}'.format(np.mean(ant_res),np.std(ant_res)))\n",
    "\n",
    "\n"
   ]
  },
  {
   "cell_type": "code",
   "execution_count": 35,
   "metadata": {},
   "outputs": [
    {
     "name": "stdout",
     "output_type": "stream",
     "text": [
      "mean match method:mean:0.4402906052591486,std:0.0014832739434590487\n"
     ]
    }
   ],
   "source": [
    "#mean_match\n",
    "mean_match_res=[]\n",
    "for i in range(100):\n",
    "    price_item=corp_bond_cv(mat, def_rate, rf_rate, recovery, n_sample,False,True)\n",
    "    mean_match_res.append(price_item)\n",
    "\n",
    "print('mean match method:mean:{},std:{}'.format(np.mean(mean_match_res),np.std(mean_match_res)))"
   ]
  },
  {
   "cell_type": "code",
   "execution_count": 36,
   "metadata": {},
   "outputs": [
    {
     "name": "stdout",
     "output_type": "stream",
     "text": [
      "mean match method:mean:0.4405031488620215,std:0.0014859350246284552\n"
     ]
    }
   ],
   "source": [
    "#integrated antithetic and mean_match\n",
    "int_res=[]\n",
    "for i in range(100):\n",
    "    price_item=corp_bond_cv(mat, def_rate, rf_rate, recovery, n_sample,True,True)\n",
    "    int_res.append(price_item)\n",
    "\n",
    "print('mean match method:mean:{},std:{}'.format(np.mean(int_res),np.std(int_res)))"
   ]
  },
  {
   "cell_type": "markdown",
   "metadata": {
    "collapsed": true
   },
   "source": [
    "### 3. Finally, what is the analytic value of the corporate bond? How does it compare to your MC result above?d"
   ]
  },
  {
   "cell_type": "markdown",
   "metadata": {},
   "source": [
    "ANS: Analytic solutions: $\\int_0^T R\\lambda e^{-\\lambda t} e^{-rf t}dt+(1-(1-e^{-(rf+\\lambda)t}))e^{-rf T}=\\frac{\\lambda R}{\\lambda +R}(1-e^{-(rf+\\lambda) T})+e^{-(\\lambda +rf)T}$"
   ]
  },
  {
   "cell_type": "code",
   "execution_count": 37,
   "metadata": {},
   "outputs": [],
   "source": [
    "### Put the analytic expression for the corporate bond price\n",
    "def_rate = 0.1\n",
    "rf_rate = 0.03\n",
    "recovery = 0.3\n",
    "mat = 10\n",
    "def analytic_solution(mat, def_rate, rf_rate, recovery):\n",
    "    solution=def_rate*recovery/(def_rate+rf_rate)*(1-np.exp(-(def_rate+rf_rate)*mat))+np.exp(-(rf_rate+def_rate)*mat)\n",
    "    return solution"
   ]
  },
  {
   "cell_type": "code",
   "execution_count": 38,
   "metadata": {},
   "outputs": [
    {
     "data": {
      "text/plain": [
       "0.44040907156462505"
      ]
     },
     "execution_count": 38,
     "metadata": {},
     "output_type": "execute_result"
    }
   ],
   "source": [
    "analytic_solution(mat, def_rate, rf_rate, recovery)"
   ]
  },
  {
   "cell_type": "code",
   "execution_count": 13,
   "metadata": {},
   "outputs": [],
   "source": []
  },
  {
   "cell_type": "code",
   "execution_count": null,
   "metadata": {},
   "outputs": [],
   "source": []
  },
  {
   "cell_type": "code",
   "execution_count": null,
   "metadata": {},
   "outputs": [],
   "source": []
  }
 ],
 "metadata": {
  "anaconda-cloud": {},
  "kernelspec": {
   "display_name": "Python 3",
   "language": "python",
   "name": "python3"
  },
  "language_info": {
   "codemirror_mode": {
    "name": "ipython",
    "version": 3
   },
   "file_extension": ".py",
   "mimetype": "text/x-python",
   "name": "python",
   "nbconvert_exporter": "python",
   "pygments_lexer": "ipython3",
   "version": "3.6.4"
  }
 },
 "nbformat": 4,
 "nbformat_minor": 1
}
